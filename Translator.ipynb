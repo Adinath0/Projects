{
  "cells": [
    {
      "cell_type": "markdown",
      "metadata": {
        "id": "view-in-github",
        "colab_type": "text"
      },
      "source": [
        "<a href=\"https://colab.research.google.com/github/Adinath0/Projects/blob/German-to-English-Translation/Translator.ipynb\" target=\"_parent\"><img src=\"https://colab.research.google.com/assets/colab-badge.svg\" alt=\"Open In Colab\"/></a>"
      ]
    },
    {
      "cell_type": "code",
      "execution_count": null,
      "metadata": {
        "id": "TKJQnOISgzzk"
      },
      "outputs": [],
      "source": [
        "import string\n",
        "import re\n",
        "from numpy import array,argmax,random,take\n",
        "import pandas as pd\n",
        "from keras.models import Sequential\n",
        "from keras.layers import Dense,LSTM,Embedding,Bidirectional,RepeatVector, TimeDistributed\n",
        "from keras.preprocessing.text import Tokenizer\n",
        "from keras.callbacks import ModelCheckpoint\n",
        "from keras.preprocessing.sequence import pad_sequences\n",
        "from keras.models import load_model\n",
        "from keras import optimizers\n",
        "import matplotlib.pyplot as plt\n",
        "% matplotlib inline\n",
        "pd.set_option('display.max_colwidth',200)"
      ]
    },
    {
      "cell_type": "code",
      "execution_count": null,
      "metadata": {
        "id": "uRTOH3SUkfHz"
      },
      "outputs": [],
      "source": [
        "def read_text(filename):\n",
        "  file=open(filename,mode='rt',encoding='utf-8')\n",
        "  text=file.read()\n",
        "  file.close()\n",
        "  return text"
      ]
    },
    {
      "cell_type": "code",
      "execution_count": null,
      "metadata": {
        "id": "INh-GNZHmFAF"
      },
      "outputs": [],
      "source": [
        "def to_lines(text):\n",
        "  sents=text.strip().split('\\n')\n",
        "  sents=[i.split('\\t') for i in sents]\n",
        "  return sents"
      ]
    },
    {
      "cell_type": "code",
      "execution_count": null,
      "metadata": {
        "id": "cxmG3JFHG6QY"
      },
      "outputs": [],
      "source": [
        "from google.colab import drive\n",
        "drive.mount('/content/drive')"
      ]
    },
    {
      "cell_type": "code",
      "execution_count": null,
      "metadata": {
        "id": "SGiXe8mNmhQE"
      },
      "outputs": [],
      "source": [
        "data=read_text(\"/content/drive/MyDrive/deu[1].txt\")\n",
        "deu_eng=to_lines(data)\n",
        "deu_eng = array(deu_eng)"
      ]
    },
    {
      "cell_type": "code",
      "execution_count": null,
      "metadata": {
        "id": "bJvfg1yP33t9"
      },
      "outputs": [],
      "source": [
        "#from google.colab import drive\n",
        "#drive.mount('/content/drive')"
      ]
    },
    {
      "cell_type": "code",
      "execution_count": null,
      "metadata": {
        "id": "PXW6p6IXm5sc"
      },
      "outputs": [],
      "source": [
        "deu_eng=deu_eng[:50000,:]"
      ]
    },
    {
      "cell_type": "code",
      "execution_count": null,
      "metadata": {
        "id": "ON3YwU9UnHcI"
      },
      "outputs": [],
      "source": [
        "deu_eng"
      ]
    },
    {
      "cell_type": "code",
      "execution_count": null,
      "metadata": {
        "id": "nI7tjnTonJez"
      },
      "outputs": [],
      "source": [
        "eng_l=[]\n",
        "deu_l=[]\n",
        "for i in deu_eng[:,0]:\n",
        "  eng_l.append(len(i.split()))\n",
        "for i in deu_eng[:,1]:\n",
        "  deu_l.append(len(i.split()))"
      ]
    },
    {
      "cell_type": "code",
      "execution_count": null,
      "metadata": {
        "id": "31MJbzqhoFz5"
      },
      "outputs": [],
      "source": [
        "length_df=pd.DataFrame({'eng':eng_l,'deu':deu_l})"
      ]
    },
    {
      "cell_type": "code",
      "execution_count": null,
      "metadata": {
        "id": "bXYRZPhooUKl"
      },
      "outputs": [],
      "source": [
        "length_df.hist(bins = 30)\n",
        "plt.show()"
      ]
    },
    {
      "cell_type": "code",
      "execution_count": null,
      "metadata": {
        "id": "pK-Sr4Bhon1l"
      },
      "outputs": [],
      "source": [
        "def tokenization(lines):\n",
        "  tokenizer=Tokenizer()\n",
        "  tokenizer.fit_on_texts(lines)\n",
        "  return tokenizer"
      ]
    },
    {
      "cell_type": "code",
      "execution_count": null,
      "metadata": {
        "id": "d8tIDQAapEF6"
      },
      "outputs": [],
      "source": [
        "eng_tokenizer=tokenization(deu_eng[:,0])\n",
        "eng_vocab_size = len(eng_tokenizer.word_index)+1\n",
        "eng_length=8\n",
        "print(\"English Vocabulary Size: %d\" % eng_vocab_size)"
      ]
    },
    {
      "cell_type": "code",
      "execution_count": null,
      "metadata": {
        "id": "KIMtIJQvpmO4"
      },
      "outputs": [],
      "source": [
        "deu_tokenizer=tokenization(deu_eng[:,1])\n",
        "deu_vocab_size = len(deu_tokenizer.word_index)+1\n",
        "deu_length=8\n",
        "print(\"Deutch Vocabulary Size: %d\" % deu_vocab_size)"
      ]
    },
    {
      "cell_type": "code",
      "execution_count": null,
      "metadata": {
        "id": "V4Uu2hMKp_K-"
      },
      "outputs": [],
      "source": [
        "def encode_sequences(tokenizer,length,lines):\n",
        "  seq=tokenizer.texts_to_sequences(lines)\n",
        "  seq=pad_sequences(seq, maxlen= length, padding='post')\n",
        "  return seq"
      ]
    },
    {
      "cell_type": "code",
      "execution_count": null,
      "metadata": {
        "id": "OGnoYNFaqxsF"
      },
      "outputs": [],
      "source": [
        "from sklearn.model_selection import train_test_split\n",
        "train,test=train_test_split(deu_eng,test_size=0.2,random_state=12)"
      ]
    },
    {
      "cell_type": "code",
      "execution_count": null,
      "metadata": {
        "id": "_5Dkk-Rurryt"
      },
      "outputs": [],
      "source": [
        "trainX=encode_sequences(deu_tokenizer,deu_length,train[:,1])\n",
        "trainY=encode_sequences(eng_tokenizer,eng_length,train[:,0])"
      ]
    },
    {
      "cell_type": "code",
      "execution_count": null,
      "metadata": {
        "id": "jkECcLZYyez-"
      },
      "outputs": [],
      "source": [
        "testX=encode_sequences(deu_tokenizer,deu_length,test[:,1])\n",
        "testY=encode_sequences(eng_tokenizer,eng_length,test[:,0])"
      ]
    },
    {
      "cell_type": "code",
      "execution_count": null,
      "metadata": {
        "id": "mDbdO592yv9b"
      },
      "outputs": [],
      "source": [
        "def build_model(in_vocab,out_vocab,in_timesteps,out_timesteps,units):\n",
        "  model=Sequential()\n",
        "  model.add(Embedding(in_vocab,units,input_length=in_timesteps,mask_zero=True))\n",
        "  model.add(LSTM(units))\n",
        "  model.add(RepeatVector(out_timesteps))\n",
        "  model.add(LSTM(units,return_sequences=True))\n",
        "  model.add(Dense(out_vocab,activation='softmax'))\n",
        "  return model"
      ]
    },
    {
      "cell_type": "code",
      "execution_count": null,
      "metadata": {
        "id": "8gAkG07Nz-GQ"
      },
      "outputs": [],
      "source": [
        "model=build_model(deu_vocab_size,eng_vocab_size,deu_length,eng_length,512)\n",
        "#rms=optimizers.\n",
        "model.compile(optimizer='RMSprop',loss='sparse_categorical_crossentropy')"
      ]
    },
    {
      "cell_type": "code",
      "execution_count": null,
      "metadata": {
        "id": "uHXz7vMV0ms-"
      },
      "outputs": [],
      "source": [
        "filename='model.h1.24_adinath'\n",
        "checkpoint=ModelCheckpoint(filename,monitor='val_loss',verbose=1,save_best_only=True,mode='min')\n",
        "history=model.fit(trainX,trainY.reshape(trainY.shape[0],trainY.shape[1],1),epochs=30, batch_size=512, validation_split=0.2,callbacks=[checkpoint],verbose=1)"
      ]
    },
    {
      "cell_type": "code",
      "execution_count": null,
      "metadata": {
        "id": "_GGYSgM72s-o"
      },
      "outputs": [],
      "source": [
        "plt.plot(history.history['loss'])\n",
        "plt.plot(history.history['val_loss'])\n",
        "plt.legend(['train','validation'])\n",
        "plt.show()"
      ]
    },
    {
      "cell_type": "code",
      "execution_count": null,
      "metadata": {
        "id": "tYxwYVBN3E7f"
      },
      "outputs": [],
      "source": [
        "model=load_model('model.h1.24_adinath')\n",
        "pred=model.predict(testX.reshape((testX.shape[0],testX.shape[1])))\n",
        "preds=argmax(pred,axis=1)"
      ]
    },
    {
      "cell_type": "code",
      "execution_count": null,
      "metadata": {
        "id": "4Xp0n08q3dVJ"
      },
      "outputs": [],
      "source": [
        "def get_word(n,tokenizer):\n",
        "  for word,index in tokenizer.word_index.items():\n",
        "    if index==n:\n",
        "      return word\n",
        "  return None\n",
        "\n"
      ]
    },
    {
      "cell_type": "code",
      "execution_count": null,
      "metadata": {
        "id": "5D6vJphF3slt"
      },
      "outputs": [],
      "source": [
        "preds_text=[]\n",
        "#print(preds)\n",
        "k=\"\"\n",
        "for i in preds:\n",
        "  temp=[]\n",
        "  for j in range(50):\n",
        "    t=get_word(i[j],eng_tokenizer)\n",
        "    if j>0:\n",
        "      if(t==get_word(i[j-1],eng_tokenizer)) or (t==None):\n",
        "        temp.append('')\n",
        "      else:\n",
        "        temp.append(t)\n",
        "    else:\n",
        "      if(t==None):\n",
        "        temp.append('')\n",
        "      else:\n",
        "        temp.append(t)\n",
        "    #k=t\n",
        "    #print(t)\n",
        "    preds_text.append(' '.join(temp))"
      ]
    },
    {
      "cell_type": "code",
      "source": [
        "print(len(test))"
      ],
      "metadata": {
        "id": "tCVoIwqHrvRu"
      },
      "execution_count": null,
      "outputs": []
    },
    {
      "cell_type": "code",
      "execution_count": null,
      "metadata": {
        "id": "scSwTns85Z7x"
      },
      "outputs": [],
      "source": [
        "pred_df=pd.DataFrame({'actual':test[:,0],'predicted':preds_text[:10000]})"
      ]
    },
    {
      "cell_type": "code",
      "execution_count": null,
      "metadata": {
        "id": "odX8mVCB5rpZ"
      },
      "outputs": [],
      "source": [
        "pd.set_option('display.max_colwidth',200)"
      ]
    },
    {
      "cell_type": "code",
      "execution_count": null,
      "metadata": {
        "id": "Bz9kQUHc5yk0"
      },
      "outputs": [],
      "source": [
        "pred_df.head(15)"
      ]
    },
    {
      "cell_type": "code",
      "execution_count": null,
      "metadata": {
        "id": "IiBUKVAB6AmW"
      },
      "outputs": [],
      "source": [
        "pred_df.tail(15)"
      ]
    }
  ],
  "metadata": {
    "accelerator": "GPU",
    "colab": {
      "provenance": [],
      "include_colab_link": true
    },
    "kernelspec": {
      "display_name": "Python 3",
      "name": "python3"
    },
    "language_info": {
      "name": "python"
    }
  },
  "nbformat": 4,
  "nbformat_minor": 0
}